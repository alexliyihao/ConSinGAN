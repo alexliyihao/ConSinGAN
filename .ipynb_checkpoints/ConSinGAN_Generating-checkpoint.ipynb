{
 "cells": [
  {
   "cell_type": "code",
   "execution_count": 3,
   "metadata": {
    "colab": {
     "base_uri": "https://localhost:8080/",
     "height": 105
    },
    "colab_type": "code",
    "id": "qgSGSOkHkMKw",
    "outputId": "8fea5392-c903-429f-84a0-3f2a72c06fe6"
   },
   "outputs": [
    {
     "name": "stdout",
     "output_type": "stream",
     "text": [
      "Drive already mounted at /content/drive; to attempt to forcibly remount, call drive.mount(\"/content/drive\", force_remount=True).\n",
      "ConSinGAN\t\t    LICENSE\t   representative_selection.py\n",
      "ConSinGAN_Generating.ipynb  main_train.py  requirements.txt\n",
      "evaluate_model.py\t    README.md\t   selected_index_40.npz\n"
     ]
    }
   ],
   "source": [
    "from google.colab import drive\n",
    "drive.mount('/content/drive')\n",
    "!ls \"/content/drive/My Drive/Columbia_Sept_19_/Class/COMS_4995_DEEP_LEARNING/ConSinGAN\"\n",
    "!cp \"/content/drive/My Drive/Columbia_Sept_19_/Class/COMS_4995_DEEP_LEARNING/ConSinGAN/.\" . -a"
   ]
  },
  {
   "cell_type": "code",
   "execution_count": 2,
   "metadata": {
    "colab": {
     "base_uri": "https://localhost:8080/",
     "height": 751
    },
    "colab_type": "code",
    "id": "LnfCq8GKjb9R",
    "outputId": "200b74bd-b7d4-4f34-a228-7c2590cc9781"
   },
   "outputs": [
    {
     "name": "stdout",
     "output_type": "stream",
     "text": [
      "Collecting cifar10_web\n",
      "  Downloading https://files.pythonhosted.org/packages/f0/19/4eb070a0ef1fb5f62cd9960b1b96e1d42070eea230da27d1885934e3fd46/cifar10_web-0.0.4-py3-none-any.whl\n",
      "Installing collected packages: cifar10-web\n",
      "Successfully installed cifar10-web-0.0.4\n",
      "Collecting git+https://github.com/albumentations-team/albumentations\n",
      "  Cloning https://github.com/albumentations-team/albumentations to /tmp/pip-req-build-65jy6_99\n",
      "  Running command git clone -q https://github.com/albumentations-team/albumentations /tmp/pip-req-build-65jy6_99\n",
      "Requirement already satisfied, skipping upgrade: numpy>=1.11.1 in /usr/local/lib/python3.6/dist-packages (from albumentations==0.4.5) (1.18.5)\n",
      "Requirement already satisfied, skipping upgrade: scipy in /usr/local/lib/python3.6/dist-packages (from albumentations==0.4.5) (1.4.1)\n",
      "Collecting imgaug<0.2.7,>=0.2.5\n",
      "\u001b[?25l  Downloading https://files.pythonhosted.org/packages/ad/2e/748dbb7bb52ec8667098bae9b585f448569ae520031932687761165419a2/imgaug-0.2.6.tar.gz (631kB)\n",
      "\u001b[K     |████████████████████████████████| 634kB 4.7MB/s \n",
      "\u001b[?25hRequirement already satisfied, skipping upgrade: PyYAML in /usr/local/lib/python3.6/dist-packages (from albumentations==0.4.5) (3.13)\n",
      "Requirement already satisfied, skipping upgrade: opencv-python>=4.1.1 in /usr/local/lib/python3.6/dist-packages (from albumentations==0.4.5) (4.1.2.30)\n",
      "Requirement already satisfied, skipping upgrade: scikit-image>=0.11.0 in /usr/local/lib/python3.6/dist-packages (from imgaug<0.2.7,>=0.2.5->albumentations==0.4.5) (0.16.2)\n",
      "Requirement already satisfied, skipping upgrade: six in /usr/local/lib/python3.6/dist-packages (from imgaug<0.2.7,>=0.2.5->albumentations==0.4.5) (1.12.0)\n",
      "Requirement already satisfied, skipping upgrade: matplotlib!=3.0.0,>=2.0.0 in /usr/local/lib/python3.6/dist-packages (from scikit-image>=0.11.0->imgaug<0.2.7,>=0.2.5->albumentations==0.4.5) (3.2.2)\n",
      "Requirement already satisfied, skipping upgrade: pillow>=4.3.0 in /usr/local/lib/python3.6/dist-packages (from scikit-image>=0.11.0->imgaug<0.2.7,>=0.2.5->albumentations==0.4.5) (7.0.0)\n",
      "Requirement already satisfied, skipping upgrade: PyWavelets>=0.4.0 in /usr/local/lib/python3.6/dist-packages (from scikit-image>=0.11.0->imgaug<0.2.7,>=0.2.5->albumentations==0.4.5) (1.1.1)\n",
      "Requirement already satisfied, skipping upgrade: networkx>=2.0 in /usr/local/lib/python3.6/dist-packages (from scikit-image>=0.11.0->imgaug<0.2.7,>=0.2.5->albumentations==0.4.5) (2.4)\n",
      "Requirement already satisfied, skipping upgrade: imageio>=2.3.0 in /usr/local/lib/python3.6/dist-packages (from scikit-image>=0.11.0->imgaug<0.2.7,>=0.2.5->albumentations==0.4.5) (2.4.1)\n",
      "Requirement already satisfied, skipping upgrade: kiwisolver>=1.0.1 in /usr/local/lib/python3.6/dist-packages (from matplotlib!=3.0.0,>=2.0.0->scikit-image>=0.11.0->imgaug<0.2.7,>=0.2.5->albumentations==0.4.5) (1.2.0)\n",
      "Requirement already satisfied, skipping upgrade: pyparsing!=2.0.4,!=2.1.2,!=2.1.6,>=2.0.1 in /usr/local/lib/python3.6/dist-packages (from matplotlib!=3.0.0,>=2.0.0->scikit-image>=0.11.0->imgaug<0.2.7,>=0.2.5->albumentations==0.4.5) (2.4.7)\n",
      "Requirement already satisfied, skipping upgrade: cycler>=0.10 in /usr/local/lib/python3.6/dist-packages (from matplotlib!=3.0.0,>=2.0.0->scikit-image>=0.11.0->imgaug<0.2.7,>=0.2.5->albumentations==0.4.5) (0.10.0)\n",
      "Requirement already satisfied, skipping upgrade: python-dateutil>=2.1 in /usr/local/lib/python3.6/dist-packages (from matplotlib!=3.0.0,>=2.0.0->scikit-image>=0.11.0->imgaug<0.2.7,>=0.2.5->albumentations==0.4.5) (2.8.1)\n",
      "Requirement already satisfied, skipping upgrade: decorator>=4.3.0 in /usr/local/lib/python3.6/dist-packages (from networkx>=2.0->scikit-image>=0.11.0->imgaug<0.2.7,>=0.2.5->albumentations==0.4.5) (4.4.2)\n",
      "Building wheels for collected packages: albumentations, imgaug\n",
      "  Building wheel for albumentations (setup.py) ... \u001b[?25l\u001b[?25hdone\n",
      "  Created wheel for albumentations: filename=albumentations-0.4.5-cp36-none-any.whl size=65168 sha256=9cc9d93e901f943baab0a3f8e4323d4167f680ca4d89293ad3762aa5d6d5d8b5\n",
      "  Stored in directory: /tmp/pip-ephem-wheel-cache-mn2z1577/wheels/6f/77/82/86baf8aeda64a6de0f890cd0f2fb31acaf5545cc9c99ad21ba\n",
      "  Building wheel for imgaug (setup.py) ... \u001b[?25l\u001b[?25hdone\n",
      "  Created wheel for imgaug: filename=imgaug-0.2.6-cp36-none-any.whl size=654020 sha256=33096100a297e25b01d21901ef1567bf4604c707e7998f933db26f6197c537e0\n",
      "  Stored in directory: /root/.cache/pip/wheels/97/ec/48/0d25896c417b715af6236dbcef8f0bed136a1a5e52972fc6d0\n",
      "Successfully built albumentations imgaug\n",
      "Installing collected packages: imgaug, albumentations\n",
      "  Found existing installation: imgaug 0.2.9\n",
      "    Uninstalling imgaug-0.2.9:\n",
      "      Successfully uninstalled imgaug-0.2.9\n",
      "  Found existing installation: albumentations 0.1.12\n",
      "    Uninstalling albumentations-0.1.12:\n",
      "      Successfully uninstalled albumentations-0.1.12\n",
      "Successfully installed albumentations-0.4.5 imgaug-0.2.6\n"
     ]
    }
   ],
   "source": [
    "! pip install cifar10_web\n",
    "! pip install -U git+https://github.com/albumentations-team/albumentations"
   ]
  },
  {
   "cell_type": "code",
   "execution_count": 4,
   "metadata": {
    "colab": {},
    "colab_type": "code",
    "id": "8dCH5V7hj1J2"
   },
   "outputs": [],
   "source": [
    "import main_train\n",
    "import evaluate_model\n",
    "from representative_selection import *\n",
    "import numpy as np\n",
    "import os\n",
    "import warnings\n",
    "warnings.filterwarnings(\"ignore\", category=FutureWarning)"
   ]
  },
  {
   "cell_type": "code",
   "execution_count": 6,
   "metadata": {
    "colab": {},
    "colab_type": "code",
    "id": "5lFkgUnoEyHq"
   },
   "outputs": [],
   "source": [
    "def generate_ConSinGAN_augmented_data(imbalanced_label = 3,\n",
    "                                      drop_ratio = 0.4,\n",
    "                                      num_representatives = 2,\n",
    "                                      parent_path = \"/content/drive/My Drive/Columbia_Sept_19_/Class/COMS_4995_DEEP_LEARNING/ConSinGAN\",\n",
    "                                      augment_only = True,\n",
    "                                      PCA__n_component = 50,\n",
    "                                      DBSCAN__eps = 0.75,\n",
    "                                      DBSCAN__min_sample = 3,\n",
    "                                      ConSinGAN__lr_scale = 0.1,\n",
    "                                      ConSinGAN__number_of_stage = 3\n",
    "                                      ):\n",
    "    os.chdir(parent_path)\n",
    "    output, directory = pipeline_rep_selection(imbalanced_label = imbalanced_label,\n",
    "                                               drop_ratio = drop_ratio,\n",
    "                                               num_representatives = num_representatives,\n",
    "                                               PCA__n_component = PCA__n_component,\n",
    "                                               DBSCAN__eps = DBSCAN__eps,\n",
    "                                               DBSCAN__min_sample = DBSCAN__min_sample)\n",
    "    \n",
    "    for i in range(num_representatives):\n",
    "        main_train.ConSinGAN_train(os.path.join(directory, f\"rep_selected/rep_{i}.png\"),\n",
    "                                  ConSinGAN__lr_scale, \n",
    "                                  ConSinGAN__number_of_stage,\n",
    "                                  os.path.join(directory, f\"model_saved/rep_{i}\"))\n",
    "    \n",
    "    generate_sample_size = int(5000 * drop_ratio)\n",
    "    generate_size_per_rep = int(np.ceil(generate_sample_size) / num_representatives)\n",
    "    \n",
    "    sample = np.vstack([evaluate_model.generate_image\\\n",
    "                        (os.path.join(directory, f\"model_saved/rep_{i}\"), generate_size_per_rep)\\\n",
    "                         for i in range(num_representatives)])\n",
    "    sample = sample[np.random.choice(sample.shape[0], generate_sample_size, replace=False)]\n",
    "    if augment_only: \n",
    "        X_train = sample\n",
    "        y_train = imbalanced_label*np.ones(generate_sample_size).astype(int)\n",
    "    else:\n",
    "        X_train, y_train, X_test, y_test = get_cifar_10()\n",
    "        X_train_imbalanced, y_train_imbalanced, X_deleted, y_deleted = get_imbalanced_dataset(X_train, y_train, label = imbalanced_label, drop_ratio= drop_ratio)\n",
    "        X_train = np.vstack((X_train_imbalanced, sample))\n",
    "        y_train = np.concatenate((y_train_imbalanced, imbalanced_label*np.ones(generate_sample_size).astype(int)))\n",
    "\n",
    "        index = np.arange(X_train.shape[0])\n",
    "        np.random.shuffle(index)\n",
    "        X_train = X_train[index]\n",
    "        y_train = y_train[index]\n",
    "    np.savez(os.path.join(directory, f\"label_{imbalanced_label}_drop_ratio_{drop_ratio}.npz\"), X_train = X_train, y_train = y_train)\n",
    "    return X_train, y_train"
   ]
  },
  {
   "cell_type": "code",
   "execution_count": 7,
   "metadata": {
    "colab": {
     "base_uri": "https://localhost:8080/",
     "height": 596,
     "referenced_widgets": [
      "ace805e1edf14b4e9d613e25e2a94b46",
      "ce4d4cc083434143acf5dbb0e627e2b0",
      "977903a2f8874b56b0daae19e7f5427f",
      "74fd0519242c442689b7b13f040ede18",
      "18450c9420284b8da7d0713ea063f922",
      "25f3f124957343afa20e7b27004de2c5",
      "28ea9ea3658645e1b104165d976361d8",
      "1fc854c3c2104f70be071c074dce2f7d"
     ]
    },
    "colab_type": "code",
    "id": "sa2M49vlEyE_",
    "outputId": "39e65443-2c6d-4266-f2e0-43cbd7aaa774"
   },
   "outputs": [
    {
     "name": "stdout",
     "output_type": "stream",
     "text": [
      "Downloaded cifar-10-binary.tar.gz to /root/data/cifar10\n"
     ]
    },
    {
     "name": "stderr",
     "output_type": "stream",
     "text": [
      "Downloading: \"https://download.pytorch.org/models/vgg19-dcbb9e9d.pth\" to /root/.cache/torch/checkpoints/vgg19-dcbb9e9d.pth\n"
     ]
    },
    {
     "data": {
      "application/vnd.jupyter.widget-view+json": {
       "model_id": "ace805e1edf14b4e9d613e25e2a94b46",
       "version_major": 2,
       "version_minor": 0
      },
      "text/plain": [
       "HBox(children=(FloatProgress(value=0.0, max=574673361.0), HTML(value='')))"
      ]
     },
     "metadata": {
      "tags": []
     },
     "output_type": "display_data"
    },
    {
     "name": "stdout",
     "output_type": "stream",
     "text": [
      "\n",
      "Training model (/content/drive/My Drive/Columbia_Sept_19_/Class/COMS_4995_DEEP_LEARNING/ConSinGAN/label_4_drop_ratio_0.4_num_representatives_2_PCA__n_component_50_DBSCAN__eps_0.75_DBSCAN__min_sample_3/model_saved/rep_0)\n",
      "Training model with the following parameters:\n",
      "\t number of stages: 3\n",
      "\t number of concurrently trained stages: 3\n",
      "\t learning rate scaling: 0.1\n",
      "\t non-linearity: lrelu\n",
      "Training on image pyramid: [torch.Size([1, 3, 26, 26]), torch.Size([1, 3, 29, 29]), torch.Size([1, 3, 32, 32])]\n",
      "\n"
     ]
    },
    {
     "name": "stderr",
     "output_type": "stream",
     "text": [
      "stage [0/2]:: 100%|██████████| 2000/2000 [01:19<00:00, 25.30it/s]\n",
      "stage [1/2]:: 100%|██████████| 2000/2000 [01:21<00:00, 24.55it/s]\n",
      "stage [2/2]:: 100%|██████████| 2000/2000 [01:32<00:00, 21.58it/s]\n",
      "stage [0/2]::   0%|          | 0/2000 [00:00<?, ?it/s]"
     ]
    },
    {
     "name": "stdout",
     "output_type": "stream",
     "text": [
      "Time for training: 254.66406869888306 seconds\n",
      "Training model (/content/drive/My Drive/Columbia_Sept_19_/Class/COMS_4995_DEEP_LEARNING/ConSinGAN/label_4_drop_ratio_0.4_num_representatives_2_PCA__n_component_50_DBSCAN__eps_0.75_DBSCAN__min_sample_3/model_saved/rep_1)\n",
      "Training model with the following parameters:\n",
      "\t number of stages: 3\n",
      "\t number of concurrently trained stages: 3\n",
      "\t learning rate scaling: 0.1\n",
      "\t non-linearity: lrelu\n",
      "Training on image pyramid: [torch.Size([1, 3, 26, 26]), torch.Size([1, 3, 29, 29]), torch.Size([1, 3, 32, 32])]\n",
      "\n"
     ]
    },
    {
     "name": "stderr",
     "output_type": "stream",
     "text": [
      "stage [0/2]:: 100%|██████████| 2000/2000 [01:13<00:00, 27.15it/s]\n",
      "stage [1/2]:: 100%|██████████| 2000/2000 [01:22<00:00, 24.11it/s]\n",
      "stage [2/2]:: 100%|██████████| 2000/2000 [01:32<00:00, 21.55it/s]\n"
     ]
    },
    {
     "name": "stdout",
     "output_type": "stream",
     "text": [
      "Time for training: 249.8167598247528 seconds\n",
      "Loading models...\n",
      "Generating Samples...\n",
      "Loading models...\n",
      "Generating Samples...\n"
     ]
    }
   ],
   "source": [
    "X_train, y_train = generate_ConSinGAN_augmented_data(imbalanced_label = 4,\n",
    "                                                     drop_ratio = 0.4,\n",
    "                                                     num_representatives = 2,\n",
    "                                                     parent_path = \"/content/drive/My Drive/Columbia_Sept_19_/Class/COMS_4995_DEEP_LEARNING/ConSinGAN\",\n",
    "                                                     augment_only = True\n",
    "                                                     PCA__n_component = 50,\n",
    "                                                     DBSCAN__eps = 0.75,\n",
    "                                                     DBSCAN__min_sample = 3,\n",
    "                                                     ConSinGAN__lr_scale = 0.1,\n",
    "                                                     ConSinGAN__number_of_stage = 3)"
   ]
  },
  {
   "cell_type": "markdown",
   "metadata": {
    "colab_type": "text",
    "id": "cKms68QCWhhx"
   },
   "source": [
    "Read-in"
   ]
  },
  {
   "cell_type": "code",
   "execution_count": null,
   "metadata": {
    "colab": {
     "base_uri": "https://localhost:8080/",
     "height": 34
    },
    "colab_type": "code",
    "id": "eA4LlRpaVdiv",
    "outputId": "8ddd2bc7-ba2a-4710-ccfe-2b4c78d43368"
   },
   "outputs": [
    {
     "data": {
      "text/plain": [
       "(50000, 32, 32, 3)"
      ]
     },
     "execution_count": 6,
     "metadata": {
      "tags": []
     },
     "output_type": "execute_result"
    }
   ],
   "source": [
    "dataset = np.load(\"/content/label_4_drop_ratio_0.4_num_representatives_2_PCA__n_component_50_DBSCAN__eps_0.75_DBSCAN__min_sample_3/label_4_drop_ratio_0.4,.npz\")\n",
    "dataset[\"X_train\"].shape"
   ]
  },
  {
   "cell_type": "code",
   "execution_count": null,
   "metadata": {
    "colab": {},
    "colab_type": "code",
    "id": "7YJaia8gEx04"
   },
   "outputs": [],
   "source": [
    "def generate_ConSinGAN_augmented_data_from_selected(imbalanced_label = 3,\n",
    "                                                    drop_ratio = 0.4,\n",
    "                                                    num_representatives = 2,\n",
    "                                                    parent_path = \"/content/drive/My Drive/Columbia_Sept_19_/Class/COMS_4995_DEEP_LEARNING/ConSinGAN\",\n",
    "                                                    continue_training_from = 0,\n",
    "                                                    augment_only = True,\n",
    "                                                    PCA__n_component = 50,\n",
    "                                                    DBSCAN__eps = 0.75,\n",
    "                                                    DBSCAN__min_sample = 3,\n",
    "                                                    ConSinGAN__lr_scale = 0.1,\n",
    "                                                    ConSinGAN__number_of_stage = 3\n",
    "                                                    ):\n",
    "    os.chdir(parent_path)\n",
    "    save_directory = generate_save_directory(imbalanced_label = imbalanced_label,\n",
    "                                        drop_ratio = drop_ratio,\n",
    "                                        num_representatives = num_representatives,\n",
    "                                        PCA__n_component = PCA__n_component,\n",
    "                                        DBSCAN__eps = DBSCAN__eps,\n",
    "                                        DBSCAN__min_sample = DBSCAN__min_sample)\n",
    "    directory = os.path.join(parent_path, save_directory)\n",
    "    \n",
    "    for i in range(continue_training_from, num_representatives):\n",
    "        main_train.ConSinGAN_train(os.path.join(directory, f\"rep_selected/rep_{i}.png\"),\n",
    "                                   ConSinGAN__lr_scale, \n",
    "                                   ConSinGAN__number_of_stage,\n",
    "                                   os.path.join(directory, f\"model_saved/rep_{i}\"))\n",
    "    \n",
    "    generate_sample_size = int(5000 * drop_ratio)\n",
    "    generate_size_per_rep = int(np.ceil(generate_sample_size) / num_representatives)\n",
    "    \n",
    "    sample = np.vstack([evaluate_model.generate_image\\\n",
    "                        (os.path.join(directory, f\"model_saved/rep_{i}\"), generate_size_per_rep)\\\n",
    "                         for i in range(num_representatives)])\n",
    "    sample = sample[np.random.choice(sample.shape[0], generate_sample_size, replace=False)]\n",
    "\n",
    "    if augment_only: \n",
    "        X_train = sample\n",
    "        y_train = imbalanced_label*np.ones(generate_sample_size).astype(int)\n",
    "    else:\n",
    "        X_train, y_train, X_test, y_test = get_cifar_10()\n",
    "        X_train_imbalanced, y_train_imbalanced, X_deleted, y_deleted = get_imbalanced_dataset(X_train, y_train, label = imbalanced_label, drop_ratio= drop_ratio)\n",
    "        X_train = np.vstack((X_train_imbalanced, sample))\n",
    "        y_train = np.concatenate((y_train_imbalanced, imbalanced_label*np.ones(generate_sample_size).astype(int)))\n",
    "\n",
    "        index = np.arange(X_train.shape[0])\n",
    "        np.random.shuffle(index)\n",
    "        X_train = X_train[index]\n",
    "        y_train = y_train[index]\n",
    "    np.savez(os.path.join(directory, f\"label_{imbalanced_label}_drop_ratio_{drop_ratio}.npz\"), X_train = X_train, y_train = y_train)\n",
    "    return X_train, y_train"
   ]
  },
  {
   "cell_type": "code",
   "execution_count": 1,
   "metadata": {},
   "outputs": [
    {
     "ename": "NameError",
     "evalue": "name 'generate_ConSinGAN_augmented_data_from_selected' is not defined",
     "output_type": "error",
     "traceback": [
      "\u001b[0;31m---------------------------------------------------------------------------\u001b[0m",
      "\u001b[0;31mNameError\u001b[0m                                 Traceback (most recent call last)",
      "\u001b[0;32m<ipython-input-1-0cedbb55bf15>\u001b[0m in \u001b[0;36m<module>\u001b[0;34m\u001b[0m\n\u001b[0;32m----> 1\u001b[0;31m X_train, y_train = generate_ConSinGAN_augmented_data_from_selected(imbalanced_label = 4,\n\u001b[0m\u001b[1;32m      2\u001b[0m                                                 \u001b[0mdrop_ratio\u001b[0m \u001b[0;34m=\u001b[0m \u001b[0;36m0.4\u001b[0m\u001b[0;34m,\u001b[0m\u001b[0;34m\u001b[0m\u001b[0;34m\u001b[0m\u001b[0m\n\u001b[1;32m      3\u001b[0m                                                 \u001b[0mnum_representatives\u001b[0m \u001b[0;34m=\u001b[0m \u001b[0;36m2\u001b[0m\u001b[0;34m,\u001b[0m\u001b[0;34m\u001b[0m\u001b[0;34m\u001b[0m\u001b[0m\n\u001b[1;32m      4\u001b[0m                                                 \u001b[0mparent_path\u001b[0m \u001b[0;34m=\u001b[0m \u001b[0;34m\"/content/drive/My Drive/Columbia_Sept_19_/Class/COMS_4995_DEEP_LEARNING/ConSinGAN\"\u001b[0m\u001b[0;34m,\u001b[0m\u001b[0;34m\u001b[0m\u001b[0;34m\u001b[0m\u001b[0m\n\u001b[1;32m      5\u001b[0m                                                 \u001b[0mcontinue_training_from\u001b[0m \u001b[0;34m=\u001b[0m \u001b[0;36m2\u001b[0m\u001b[0;34m,\u001b[0m\u001b[0;34m\u001b[0m\u001b[0;34m\u001b[0m\u001b[0m\n",
      "\u001b[0;31mNameError\u001b[0m: name 'generate_ConSinGAN_augmented_data_from_selected' is not defined"
     ]
    }
   ],
   "source": [
    "X_train, y_train = generate_ConSinGAN_augmented_data_from_selected(imbalanced_label = 4,\n",
    "                                                drop_ratio = 0.4,\n",
    "                                                num_representatives = 2,\n",
    "                                                parent_path = \"/content/drive/My Drive/Columbia_Sept_19_/Class/COMS_4995_DEEP_LEARNING/ConSinGAN\",\n",
    "                                                continue_training_from = 1,\n",
    "                                                # which is the first rep you will train here\n",
    "                                                # you need to delete the model generated before\n",
    "                                                augment_only = True,\n",
    "                                                PCA__n_component = 50,\n",
    "                                                DBSCAN__eps = 0.75,\n",
    "                                                DBSCAN__min_sample = 3,\n",
    "                                                ConSinGAN__lr_scale = 0.1,\n",
    "                                                ConSinGAN__number_of_stage = 3\n",
    "                                                )"
   ]
  },
  {
   "cell_type": "code",
   "execution_count": null,
   "metadata": {},
   "outputs": [],
   "source": []
  },
  {
   "cell_type": "code",
   "execution_count": null,
   "metadata": {},
   "outputs": [],
   "source": []
  },
  {
   "cell_type": "code",
   "execution_count": null,
   "metadata": {
    "colab": {},
    "colab_type": "code",
    "id": "aHfmGp4kExzD"
   },
   "outputs": [],
   "source": [
    "def generate_ConSinGAN_augmented_data_from_trained(imbalanced_label = 3,\n",
    "                                                  drop_ratio = 0.4,\n",
    "                                                  num_representatives = 2,\n",
    "                                                  parent_path = \"/content/drive/My Drive/Columbia_Sept_19_/Class/COMS_4995_DEEP_LEARNING/ConSinGAN\",\n",
    "                                                  PCA__n_component = 50,\n",
    "                                                  DBSCAN__eps = 0.75,\n",
    "                                                  DBSCAN__min_sample = 3,\n",
    "                                                  ConSinGAN__lr_scale = 0.1,\n",
    "                                                  ConSinGAN__number_of_stage = 3\n",
    "                                                  ):\n",
    "    os.chdir(parent_path)\n",
    "    directory = generate_save_directory(imbalanced_label = imbalanced_label,\n",
    "                                        drop_ratio = drop_ratio,\n",
    "                                        num_representatives = num_representatives,\n",
    "                                        PCA__n_component = PCA__n_component,\n",
    "                                        DBSCAN__eps = DBSCAN__eps,\n",
    "                                        DBSCAN__min_sample = DBSCAN__min_sample)\n",
    "    directory = os.path.join(parent_directory, save_directory)\n",
    "    \n",
    "    generate_sample_size = int(5000 * drop_ratio)\n",
    "    generate_size_per_rep = int(np.ceil(generate_sample_size) / num_representatives)\n",
    "    \n",
    "    sample = np.vstack([evaluate_model.generate_image\\\n",
    "                        (os.path.join(directory, f\"model_saved/rep_{i}\"), generate_size_per_rep)\\\n",
    "                         for i in range(num_representatives)])\n",
    "    sample = sample[np.random.choice(sample.shape[0], generate_sample_size, replace=False)]\n",
    "\n",
    "    X_train, y_train, X_test, y_test = get_cifar_10()\n",
    "    X_train_imbalanced, y_train_imbalanced, X_deleted, y_deleted = get_imbalanced_dataset(X_train, y_train, label = imbalanced_label, drop_ratio= drop_ratio)\n",
    "    X_train = np.vstack((X_train_imbalanced, sample))\n",
    "    y_train = np.concatenate((y_train_imbalanced, imbalanced_label*np.ones(generate_sample_size).astype(int)))\n",
    "\n",
    "    index = np.arange(X_train.shape[0])\n",
    "    np.random.shuffle(index)\n",
    "    X_train = X_train[index]\n",
    "    y_train = y_train[index]\n",
    "    np.savez(os.path.join(directory, f\"label_{imbalanced_label}_drop_ratio_{drop_ratio}.npz\"), X_train = X_train, y_train = y_train)\n",
    "    return X_train, y_train"
   ]
  },
  {
   "cell_type": "code",
   "execution_count": null,
   "metadata": {
    "colab": {},
    "colab_type": "code",
    "id": "_L73SR_sExwa"
   },
   "outputs": [],
   "source": []
  },
  {
   "cell_type": "code",
   "execution_count": null,
   "metadata": {
    "colab": {},
    "colab_type": "code",
    "id": "9O_rRYZQExtN"
   },
   "outputs": [],
   "source": []
  },
  {
   "cell_type": "code",
   "execution_count": null,
   "metadata": {
    "colab": {},
    "colab_type": "code",
    "id": "hUCf_8Z3pAMk"
   },
   "outputs": [],
   "source": [
    "output, directory = pipeline_rep_selection(imbalanced_label = imbalanced_label,\n",
    "                                               drop_ratio = drop_ratio,\n",
    "                                               num_representatives = num_representatives,\n",
    "                                               PCA__n_component = PCA__n_component,\n",
    "                                               DBSCAN__eps = DBSCAN__eps,\n",
    "                                               DBSCAN__min_sample = DBSCAN__min_sample)\n"
   ]
  },
  {
   "cell_type": "code",
   "execution_count": null,
   "metadata": {
    "colab": {},
    "colab_type": "code",
    "id": "Wos-Yq7QCepL"
   },
   "outputs": [],
   "source": [
    "for i in range(output.shape[0]):\n",
    "    main_train.ConSinGAN_train(os.path.join(directory, f\"rep_selected/rep_{i}.png\"),\n",
    "                               ConSinGAN__lr_scale, \n",
    "                               ConSinGAN__number_of_stage,\n",
    "                               os.path.join(directory, f\"model_saved/rep_{i}\"))"
   ]
  },
  {
   "cell_type": "code",
   "execution_count": null,
   "metadata": {
    "colab": {},
    "colab_type": "code",
    "id": "T8eXdPrWCTx6"
   },
   "outputs": [],
   "source": [
    "sample = np.vstack([evaluate_model.generate_image(os.path.join(directory, f\"model_saved/rep_{i}\"), 10) for i in range(output.shape[0])])"
   ]
  },
  {
   "cell_type": "code",
   "execution_count": null,
   "metadata": {
    "colab": {},
    "colab_type": "code",
    "id": "c6JBhTU3ARZV"
   },
   "outputs": [],
   "source": [
    "augmented = generate_ConSinGAN_augmented_data(imbalanced_label = 3,\n",
    "                                              drop_ratio = 0.4,\n",
    "                                              num_representatives = 2,\n",
    "                                              generate_sample_size = 50,\n",
    "                                              PCA__n_component = 50,\n",
    "                                              DBSCAN__eps = 0.75,\n",
    "                                              DBSCAN__min_sample = 3,\n",
    "                                              ConSinGAN__lr_scale = 0.1,\n",
    "                                              ConSinGAN__number_of_stage = 3)"
   ]
  },
  {
   "cell_type": "code",
   "execution_count": null,
   "metadata": {
    "colab": {},
    "colab_type": "code",
    "id": "K7JUPbNNITI2"
   },
   "outputs": [],
   "source": []
  }
 ],
 "metadata": {
  "accelerator": "GPU",
  "colab": {
   "collapsed_sections": [],
   "name": "ConSinGAN_Generating.ipynb",
   "provenance": []
  },
  "kernelspec": {
   "display_name": "Python 3",
   "language": "python",
   "name": "python3"
  },
  "language_info": {
   "codemirror_mode": {
    "name": "ipython",
    "version": 3
   },
   "file_extension": ".py",
   "mimetype": "text/x-python",
   "name": "python",
   "nbconvert_exporter": "python",
   "pygments_lexer": "ipython3",
   "version": "3.7.3"
  },
  "widgets": {
   "application/vnd.jupyter.widget-state+json": {
    "18450c9420284b8da7d0713ea063f922": {
     "model_module": "@jupyter-widgets/controls",
     "model_name": "ProgressStyleModel",
     "state": {
      "_model_module": "@jupyter-widgets/controls",
      "_model_module_version": "1.5.0",
      "_model_name": "ProgressStyleModel",
      "_view_count": null,
      "_view_module": "@jupyter-widgets/base",
      "_view_module_version": "1.2.0",
      "_view_name": "StyleView",
      "bar_color": null,
      "description_width": "initial"
     }
    },
    "1fc854c3c2104f70be071c074dce2f7d": {
     "model_module": "@jupyter-widgets/base",
     "model_name": "LayoutModel",
     "state": {
      "_model_module": "@jupyter-widgets/base",
      "_model_module_version": "1.2.0",
      "_model_name": "LayoutModel",
      "_view_count": null,
      "_view_module": "@jupyter-widgets/base",
      "_view_module_version": "1.2.0",
      "_view_name": "LayoutView",
      "align_content": null,
      "align_items": null,
      "align_self": null,
      "border": null,
      "bottom": null,
      "display": null,
      "flex": null,
      "flex_flow": null,
      "grid_area": null,
      "grid_auto_columns": null,
      "grid_auto_flow": null,
      "grid_auto_rows": null,
      "grid_column": null,
      "grid_gap": null,
      "grid_row": null,
      "grid_template_areas": null,
      "grid_template_columns": null,
      "grid_template_rows": null,
      "height": null,
      "justify_content": null,
      "justify_items": null,
      "left": null,
      "margin": null,
      "max_height": null,
      "max_width": null,
      "min_height": null,
      "min_width": null,
      "object_fit": null,
      "object_position": null,
      "order": null,
      "overflow": null,
      "overflow_x": null,
      "overflow_y": null,
      "padding": null,
      "right": null,
      "top": null,
      "visibility": null,
      "width": null
     }
    },
    "25f3f124957343afa20e7b27004de2c5": {
     "model_module": "@jupyter-widgets/base",
     "model_name": "LayoutModel",
     "state": {
      "_model_module": "@jupyter-widgets/base",
      "_model_module_version": "1.2.0",
      "_model_name": "LayoutModel",
      "_view_count": null,
      "_view_module": "@jupyter-widgets/base",
      "_view_module_version": "1.2.0",
      "_view_name": "LayoutView",
      "align_content": null,
      "align_items": null,
      "align_self": null,
      "border": null,
      "bottom": null,
      "display": null,
      "flex": null,
      "flex_flow": null,
      "grid_area": null,
      "grid_auto_columns": null,
      "grid_auto_flow": null,
      "grid_auto_rows": null,
      "grid_column": null,
      "grid_gap": null,
      "grid_row": null,
      "grid_template_areas": null,
      "grid_template_columns": null,
      "grid_template_rows": null,
      "height": null,
      "justify_content": null,
      "justify_items": null,
      "left": null,
      "margin": null,
      "max_height": null,
      "max_width": null,
      "min_height": null,
      "min_width": null,
      "object_fit": null,
      "object_position": null,
      "order": null,
      "overflow": null,
      "overflow_x": null,
      "overflow_y": null,
      "padding": null,
      "right": null,
      "top": null,
      "visibility": null,
      "width": null
     }
    },
    "28ea9ea3658645e1b104165d976361d8": {
     "model_module": "@jupyter-widgets/controls",
     "model_name": "DescriptionStyleModel",
     "state": {
      "_model_module": "@jupyter-widgets/controls",
      "_model_module_version": "1.5.0",
      "_model_name": "DescriptionStyleModel",
      "_view_count": null,
      "_view_module": "@jupyter-widgets/base",
      "_view_module_version": "1.2.0",
      "_view_name": "StyleView",
      "description_width": ""
     }
    },
    "74fd0519242c442689b7b13f040ede18": {
     "model_module": "@jupyter-widgets/controls",
     "model_name": "HTMLModel",
     "state": {
      "_dom_classes": [],
      "_model_module": "@jupyter-widgets/controls",
      "_model_module_version": "1.5.0",
      "_model_name": "HTMLModel",
      "_view_count": null,
      "_view_module": "@jupyter-widgets/controls",
      "_view_module_version": "1.5.0",
      "_view_name": "HTMLView",
      "description": "",
      "description_tooltip": null,
      "layout": "IPY_MODEL_1fc854c3c2104f70be071c074dce2f7d",
      "placeholder": "​",
      "style": "IPY_MODEL_28ea9ea3658645e1b104165d976361d8",
      "value": " 548M/548M [00:15&lt;00:00, 37.6MB/s]"
     }
    },
    "977903a2f8874b56b0daae19e7f5427f": {
     "model_module": "@jupyter-widgets/controls",
     "model_name": "FloatProgressModel",
     "state": {
      "_dom_classes": [],
      "_model_module": "@jupyter-widgets/controls",
      "_model_module_version": "1.5.0",
      "_model_name": "FloatProgressModel",
      "_view_count": null,
      "_view_module": "@jupyter-widgets/controls",
      "_view_module_version": "1.5.0",
      "_view_name": "ProgressView",
      "bar_style": "success",
      "description": "100%",
      "description_tooltip": null,
      "layout": "IPY_MODEL_25f3f124957343afa20e7b27004de2c5",
      "max": 574673361,
      "min": 0,
      "orientation": "horizontal",
      "style": "IPY_MODEL_18450c9420284b8da7d0713ea063f922",
      "value": 574673361
     }
    },
    "ace805e1edf14b4e9d613e25e2a94b46": {
     "model_module": "@jupyter-widgets/controls",
     "model_name": "HBoxModel",
     "state": {
      "_dom_classes": [],
      "_model_module": "@jupyter-widgets/controls",
      "_model_module_version": "1.5.0",
      "_model_name": "HBoxModel",
      "_view_count": null,
      "_view_module": "@jupyter-widgets/controls",
      "_view_module_version": "1.5.0",
      "_view_name": "HBoxView",
      "box_style": "",
      "children": [
       "IPY_MODEL_977903a2f8874b56b0daae19e7f5427f",
       "IPY_MODEL_74fd0519242c442689b7b13f040ede18"
      ],
      "layout": "IPY_MODEL_ce4d4cc083434143acf5dbb0e627e2b0"
     }
    },
    "ce4d4cc083434143acf5dbb0e627e2b0": {
     "model_module": "@jupyter-widgets/base",
     "model_name": "LayoutModel",
     "state": {
      "_model_module": "@jupyter-widgets/base",
      "_model_module_version": "1.2.0",
      "_model_name": "LayoutModel",
      "_view_count": null,
      "_view_module": "@jupyter-widgets/base",
      "_view_module_version": "1.2.0",
      "_view_name": "LayoutView",
      "align_content": null,
      "align_items": null,
      "align_self": null,
      "border": null,
      "bottom": null,
      "display": null,
      "flex": null,
      "flex_flow": null,
      "grid_area": null,
      "grid_auto_columns": null,
      "grid_auto_flow": null,
      "grid_auto_rows": null,
      "grid_column": null,
      "grid_gap": null,
      "grid_row": null,
      "grid_template_areas": null,
      "grid_template_columns": null,
      "grid_template_rows": null,
      "height": null,
      "justify_content": null,
      "justify_items": null,
      "left": null,
      "margin": null,
      "max_height": null,
      "max_width": null,
      "min_height": null,
      "min_width": null,
      "object_fit": null,
      "object_position": null,
      "order": null,
      "overflow": null,
      "overflow_x": null,
      "overflow_y": null,
      "padding": null,
      "right": null,
      "top": null,
      "visibility": null,
      "width": null
     }
    }
   }
  }
 },
 "nbformat": 4,
 "nbformat_minor": 1
}
